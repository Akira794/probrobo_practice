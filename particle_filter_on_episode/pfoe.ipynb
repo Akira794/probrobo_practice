{
 "cells": [
  {
   "cell_type": "markdown",
   "metadata": {},
   "source": [
    "# Particle Filter on Episode\n",
    "\n",
    "千葉工業大学 上田 隆一\n",
    "\n",
    "(c) 2017 Ryuichi Ueda\n",
    "\n",
    "This software is released under the MIT License, see LICENSE.\n",
    "\n",
    "## はじめに\n",
    "\n",
    "このコードは、上田が https://link.springer.com/chapter/10.1007/978-3-319-48036-7_54 で公表した「particle filter on episode」というアルゴリズムです。簡単なタスクを学習できますが、まだ弱いです。"
   ]
  },
  {
   "cell_type": "code",
   "execution_count": 1,
   "metadata": {
    "collapsed": true
   },
   "outputs": [],
   "source": [
    "%matplotlib inline\n",
    "import numpy as np\n",
    "from copy import copy\n",
    "import math, random\n",
    "import matplotlib.pyplot as plt                   #   for plotting data\n",
    "from matplotlib.patches import Ellipse      #  for drawing"
   ]
  },
  {
   "cell_type": "markdown",
   "metadata": {},
   "source": [
    "## イベント、エピソードのクラス\n",
    "\n",
    "記憶をモデル化します。行動に必要な情報は、結局のところどう動いて何を見て、どんな良いこと・悪いことがあったか、だけになります。"
   ]
  },
  {
   "cell_type": "code",
   "execution_count": 2,
   "metadata": {
    "collapsed": true
   },
   "outputs": [],
   "source": [
    "class Event:\n",
    "    TIME = 0\n",
    "    def __init__(self,action,reward,observation):\n",
    "        self.action = action\n",
    "        self.reward = reward\n",
    "        self.observation = observation\n",
    "        self.time = TIME\n",
    "        TIME += 1\n",
    "        \n",
    "    def __str__(self):\n",
    "        return \"action:\" + str(self.action) + \"\\t\" + \"reward:\" + str(self.reward) + \"\\t\" + \"observation:\" + str(self.observation)\n",
    "        \n",
    "class Episodes:   #強化学習では一つの試行をエピソードと呼ぶ。このクラスは複数のエピソードをずーっとシーケンシャルに持つので、Episodesと複数形に。\n",
    "    def __init__(self):\n",
    "        self.events = []\n",
    "        \n",
    "    def __str__(self):\n",
    "        es = []\n",
    "        for e in self.events:\n",
    "            es.append(str(e))\n",
    "        \n",
    "        return \"\\n\".join(es)"
   ]
  },
  {
   "cell_type": "markdown",
   "metadata": {},
   "source": [
    "## ロボットのクラス\n",
    "\n",
    "環境と相互作用しながら記憶を蓄積していきます。"
   ]
  },
  {
   "cell_type": "code",
   "execution_count": 3,
   "metadata": {
    "collapsed": true
   },
   "outputs": [],
   "source": [
    "class Action:\n",
    "    def __init__(self,name,fw,rot):\n",
    "        self.name = name\n",
    "        self.fw = fw\n",
    "        self.rot = rot\n",
    "\n",
    "class Robot:\n",
    "    def __init__(self):\n",
    "        self.episodes = Episodes()\n",
    "        \n",
    "        self.actions = [Action(\"fw\",100.0,0.0), Action(\"cw\",0.0,-90.0), Action(\"ccw\",0.0,90.0)]\n",
    "        \n",
    "    def observe(self):\n",
    "        return None\n",
    "    \n",
    "    def __motion(self, pos, fw, rot):\n",
    "        actual_fw = random.gauss(fw,fw/10)    #標準偏差にしてfwの10%だけ移動距離に雑音を入れる\n",
    "        dir_error = random.gauss(0.0, math.pi / 180.0 * 3.0) # 前進時にロボットの進路が曲がる雑音。標準偏差3[deg] \n",
    "        \n",
    "        px, py, pt = pos\n",
    "        \n",
    "        #前進させる\n",
    "        x = px + actual_fw * math.cos(pt + dir_error)\n",
    "        y = py + actual_fw * math.sin(pt + dir_error)\n",
    "        \n",
    "        #回転。回転角にもrotの10%だけ雑音を入れる\n",
    "        t = pt + dir_error + random.gauss(rot,rot/10)\n",
    "        \n",
    "        return np.array([x,y,t])\n",
    "    \n",
    "    def move(self,pos,action):\n",
    "        a = self.actions[action]\n",
    "        return self.__motion(pos,a.fw,a.rot)\n",
    "        \n",
    "    def one_step(self,action):\n",
    "        pass"
   ]
  },
  {
   "cell_type": "markdown",
   "metadata": {},
   "source": [
    "## 環境のクラス"
   ]
  },
  {
   "cell_type": "code",
   "execution_count": 4,
   "metadata": {},
   "outputs": [],
   "source": [
    "\n",
    "class Wall:\n",
    "    def __init__(self,x1,y1,x2,y2):\n",
    "        self.p1 = np.array([x1,y1]).T\n",
    "        self.p2 = np.array([x2,y2]).T\n",
    "\n",
    "class Environment:\n",
    "    def __init__(self,robot):\n",
    "        self.walls = [Wall(-90.0,0.0,90.0,0.0), \n",
    "                      Wall(90.0,0.0,90.0,180.0), Wall(90.0,180.0,90.0,360.0), \n",
    "                      Wall(90.0,360.0,270.0,360.0), \n",
    "                      Wall(270.0,360.0, 270.0, 540.0),\n",
    "                      Wall(270.0, 540.0,90.0,540.0), Wall(90.0,540.0,-90.0,540.0), Wall(-90.0,540.0,-270,540.0),\n",
    "                      Wall(-270.0, 540.0, -270.0, 360.0), \n",
    "                      Wall( -270.0, 360.0, -90.0, 360.0,),\n",
    "                      Wall(-90.0,0.0,-90.0,180.0), Wall(-90.0,180.0,-90.0,360.0), \n",
    "                     ]\n",
    "        \n",
    "        self.robot = robot\n",
    "        #the robot never knows its position by itself. \n",
    "        #so the pose of the robot should be here, not in a robot instance.\n",
    "        self.robot_pos = np.array([0,100,0]) \n",
    "        \n",
    "    def draw(self):\n",
    "        fig = plt.figure(0,figsize=(8, 8))\n",
    "        p = fig.add_subplot(111, aspect='equal')\n",
    "        p.set_xlim(-300,300)\n",
    "        p.set_ylim(-30,570)\n",
    "\n",
    "        for w in self.walls:\n",
    "            p.plot([w.p1[0],w.p2[0]],[w.p1[1],w.p2[1]],color=\"red\")\n",
    "            \n",
    "        r = self.robot_pos\n",
    "        p.add_artist(plt.Circle((r[0], r[1]), 25, color='black', fill=False))\n",
    "        p.plot([r[0],r[0] + 25.0*math.cos(r[2])],[r[1],r[1] + 25.0*math.sin(r[2])],color=\"black\")\n"
   ]
  },
  {
   "cell_type": "markdown",
   "metadata": {},
   "source": [
    "## 実行"
   ]
  },
  {
   "cell_type": "code",
   "execution_count": 5,
   "metadata": {},
   "outputs": [],
   "source": [
    "env = Environment(Robot())"
   ]
  },
  {
   "cell_type": "code",
   "execution_count": 6,
   "metadata": {},
   "outputs": [
    {
     "data": {
      "image/png": "[encoded data removed]",
      "text/plain": [
       "<matplotlib.figure.Figure at 0x107681ac8>"
      ]
     },
     "metadata": {},
     "output_type": "display_data"
    }
   ],
   "source": [
    "env.draw()"
   ]
  },
  {
   "cell_type": "code",
   "execution_count": null,
   "metadata": {
    "collapsed": true
   },
   "outputs": [],
   "source": []
  }
 ],
 "metadata": {
  "kernelspec": {
   "display_name": "Python 3",
   "language": "python",
   "name": "python3"
  },
  "language_info": {
   "codemirror_mode": {
    "name": "ipython",
    "version": 3
   },
   "file_extension": ".py",
   "mimetype": "text/x-python",
   "name": "python",
   "nbconvert_exporter": "python",
   "pygments_lexer": "ipython3",
   "version": "3.6.1"
  }
 },
 "nbformat": 4,
 "nbformat_minor": 1
}
