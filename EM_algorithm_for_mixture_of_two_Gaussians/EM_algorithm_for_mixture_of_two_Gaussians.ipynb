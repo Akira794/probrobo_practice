{
 "cells": [
  {
   "cell_type": "markdown",
   "metadata": {},
   "source": [
    "# 2つのガウス分布を含む混合ガウス分布のためのEMアルゴリズム"
   ]
  },
  {
   "cell_type": "markdown",
   "metadata": {},
   "source": [
    "千葉工業大学 上田 隆一\n",
    "\n",
    "(c) 2017 Ryuichi Ueda\n",
    "\n",
    "This software is released under the MIT License, see LICENSE.\n",
    "\n",
    "## はじめに\n",
    "\n",
    "このコードは、2つの2次元ガウス分布を含む混合ガウス分布から生成されたデータについて、EMアルゴリズムでパラメータを求めるためのEMアルゴリズムの実装例です。"
   ]
  },
  {
   "cell_type": "markdown",
   "metadata": {},
   "source": [
    "## アルゴリズムを適用される対象になるデータの生成"
   ]
  },
  {
   "cell_type": "code",
   "execution_count": null,
   "metadata": {},
   "outputs": [],
   "source": [
    "%matplotlib inline\n",
    "import numpy as np\n",
    "import matplotlib.pyplot as pylab\n",
    "\n",
    "# グループ1のガウス分布\n",
    "mu1_ans = [170,70]\n",
    "cov1_ans = [[6**2,-30],[-30,8**2]]\n",
    "X1 = np.random.multivariate_normal(mu1_ans,cov1_ans,100).T #サンプル生成\n",
    "\n",
    "# グループ2のガウス分布\n",
    "mu2_ans = [130,50]\n",
    "cov2_ans = [[5.**2,20],[20,6**2]]\n",
    "X2 = np.random.multivariate_normal(mu2_ans,cov2_ans,50).T #サンプル生成\n",
    "\n",
    "# 2つのグループを混ぜる\n",
    "X = np.column_stack((X1,X2))\n",
    "\n",
    "# 描画\n",
    "pylab.scatter(X[0],X[1],color='g',marker='+')"
   ]
  },
  {
   "cell_type": "markdown",
   "metadata": {},
   "source": []
  },
  {
   "cell_type": "code",
   "execution_count": null,
   "metadata": {
    "collapsed": true
   },
   "outputs": [],
   "source": []
  }
 ],
 "metadata": {
  "kernelspec": {
   "display_name": "Python 3",
   "language": "python",
   "name": "python3"
  },
  "language_info": {
   "codemirror_mode": {
    "name": "ipython",
    "version": 3
   },
   "file_extension": ".py",
   "mimetype": "text/x-python",
   "name": "python",
   "nbconvert_exporter": "python",
   "pygments_lexer": "ipython3",
   "version": "3.6.1"
  }
 },
 "nbformat": 4,
 "nbformat_minor": 2
}
