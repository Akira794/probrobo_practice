{
 "cells": [
  {
   "cell_type": "code",
   "execution_count": 1,
   "metadata": {},
   "outputs": [],
   "source": [
    "%matplotlib inline\n",
    "import numpy as np\n",
    "import math\n",
    "import matplotlib.pyplot as plt\n",
    "from matplotlib.patches import Ellipse\n",
    "\n",
    "class Gaussian2D:\n",
    "    def __init__(self,sigma_x = 1.0, sigma_y = 1.0, cov_xy = 0.0,mu_x = 0.0, mu_y = 0.0):\n",
    "        self.cov = np.array([[sigma_x,cov_xy],[cov_xy,sigma_y]])\n",
    "        self.mean = np.array([mu_x,mu_y]).T\n",
    "        \n",
    "    def shift(self,delta,angle):\n",
    "        ca = math.cos(angle)\n",
    "        sa = math.sin(angle)\n",
    "        rot = np.array([[ca,-sa],[sa,ca]])\n",
    "        \n",
    "        self.cov = rot.dot(self.cov).dot(rot.T)\n",
    "        self.mean = self.mean + delta\n",
    "        \n",
    "    def value(self, pos):\n",
    "        delta = pos - self.mean\n",
    "        numerator = math.exp(-0.5 * (delta.T).dot(self.cov.I).dot(delta))\n",
    "        denominator = 2 * math.pi * math.sqrt(np.linalg.det(self.cov))\n",
    "        return numerator / denominator\n",
    "    \n",
    "    def ellipse(self):\n",
    "        eig_vals,eig_vec = np.linalg.eig(self.cov)\n",
    "\n",
    "        v1 = eig_vals[0] * eig_vec[:,0]\n",
    "        v2 = eig_vals[1] * eig_vec[:,1]\n",
    "        v1_direction = math.atan2(v1[1],v1[0])\n",
    "        \n",
    "        e = Ellipse(self.mean,width=np.linalg.norm(v1),height=np.linalg.norm(v2),angle=v1_direction/3.14*180)\n",
    "        e.set_alpha(0.2)\n",
    "        \n",
    "        return e\n",
    "\n"
   ]
  },
  {
   "cell_type": "code",
   "execution_count": 2,
   "metadata": {},
   "outputs": [
    {
     "name": "stdout",
     "output_type": "stream",
     "text": [
      "[[ 1.   0. ]\n",
      " [ 0.   0.5]]\n",
      "[[ 0.75019908  0.24999992]\n",
      " [ 0.24999992  0.74980092]]\n",
      "[ 1.  1.]\n"
     ]
    }
   ],
   "source": [
    "p = Gaussian2D(1.0,0.5,0.0)\n",
    "print(p.cov)\n",
    "p.shift(np.array([1,1]).T,3.14/4)\n",
    "print(p.cov)\n",
    "print(p.mean)"
   ]
  },
  {
   "cell_type": "code",
   "execution_count": null,
   "metadata": {},
   "outputs": [],
   "source": []
  },
  {
   "cell_type": "code",
   "execution_count": 3,
   "metadata": {},
   "outputs": [
    {
     "data": {
      "image/png": "[encoded data removed]",
      "text/plain": [
       "<matplotlib.figure.Figure at 0x7f7f305f1278>"
      ]
     },
     "metadata": {},
     "output_type": "display_data"
    }
   ],
   "source": [
    "fig = plt.figure(0)\n",
    "sp = fig.add_subplot(111, aspect='equal')\n",
    "\n",
    "plt.scatter([0,1,2],[0,1,2])\n",
    "sp.add_artist(p.ellipse())\n",
    "\n",
    "plt.show()"
   ]
  },
  {
   "cell_type": "code",
   "execution_count": null,
   "metadata": {},
   "outputs": [],
   "source": []
  },
  {
   "cell_type": "code",
   "execution_count": null,
   "metadata": {},
   "outputs": [],
   "source": []
  }
 ],
 "metadata": {
  "kernelspec": {
   "display_name": "Python 3",
   "language": "python",
   "name": "python3"
  },
  "language_info": {
   "codemirror_mode": {
    "name": "ipython",
    "version": 3
   },
   "file_extension": ".py",
   "mimetype": "text/x-python",
   "name": "python",
   "nbconvert_exporter": "python",
   "pygments_lexer": "ipython3",
   "version": "3.5.2"
  }
 },
 "nbformat": 4,
 "nbformat_minor": 1
}
