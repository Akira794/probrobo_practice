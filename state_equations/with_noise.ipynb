{
 "cells": [
  {
   "cell_type": "markdown",
   "metadata": {},
   "source": [
    "# 移動ロボットの状態遷移（ノイズなし）\n",
    "\n",
    "千葉工業大学 上田 隆一\n",
    "\n",
    "(c) 2017 Ryuichi Ueda\n",
    "\n",
    "This software is released under the MIT License, see LICENSE.\n",
    "\n",
    "## はじめに\n",
    "\n",
    "このコードは、移動ロボットの移動の簡単なモデルです。\n"
   ]
  },
  {
   "cell_type": "code",
   "execution_count": 1,
   "metadata": {},
   "outputs": [],
   "source": [
    "%matplotlib inline\n",
    "import numpy as np\n",
    "import math, random\n",
    "import matplotlib.pyplot as plt                   #   for plotting data"
   ]
  },
  {
   "cell_type": "markdown",
   "metadata": {
    "collapsed": true
   },
   "source": [
    "### ばらつき\n",
    "\n",
    "つぎのルールにしたがってロボットの移動量に雑音を混入してみる。\n",
    "\n",
    "* 指令値を中心に、ガウス分布にしたがって次のようにばらつく\n",
    "  * 前進するとき\n",
    "    * 距離が距離に対して10%の標準偏差でばらつく\n",
    "    * 向きが標準偏差3[deg]でばらつく\n",
    "  * 向きを変えるとき\n",
    "    * 変える向きの角度に対して10%の標準偏差でばらつく\n",
    "\n",
    "\n",
    "### 状態方程式に対応する関数\n",
    "\n",
    "下の例について、関数fを書きましょう。"
   ]
  },
  {
   "cell_type": "markdown",
   "metadata": {
    "collapsed": true
   },
   "source": [
    "```python\n",
    "old_x = np.array([0,0,0])    # 今回は不要だがnumpyを使用\n",
    "u = np.array([0.1,10/180*math.pi]) # 毎回0.1だけ進めて10[deg]向きを変える\n",
    "\n",
    "def f(x_old,u):\n",
    "    なにかコードを書く\n",
    "    return x_new\n",
    "```"
   ]
  },
  {
   "cell_type": "markdown",
   "metadata": {
    "collapsed": true
   },
   "source": [
    "#### 解答例"
   ]
  },
  {
   "cell_type": "code",
   "execution_count": 2,
   "metadata": {},
   "outputs": [],
   "source": [
    "def f(x_old,u):\n",
    "    # わかりにくいのでバラす\n",
    "    pos_x, pos_y, pos_theta = x_old\n",
    "    act_fw, act_rot = u\n",
    "    \n",
    "    act_fw = random.gauss(act_fw,act_fw/10)\n",
    "    dir_error = random.gauss(0.0, math.pi / 180.0 * 3.0)\n",
    "    act_rot = random.gauss(act_rot,act_rot/10)\n",
    "    \n",
    "    pos_x += act_fw * math.cos(pos_theta + dir_error)\n",
    "    pos_y += act_fw * math.sin(pos_theta + dir_error)\n",
    "    pos_theta += act_rot\n",
    "    \n",
    "    return np.array([pos_x,pos_y,pos_theta])"
   ]
  },
  {
   "cell_type": "markdown",
   "metadata": {
    "collapsed": true
   },
   "source": [
    "### 実行！\n",
    "\n",
    "10ステップ動貸してみましょう。"
   ]
  },
  {
   "cell_type": "code",
   "execution_count": 3,
   "metadata": {},
   "outputs": [
    {
     "name": "stdout",
     "output_type": "stream",
     "text": [
      "[0 0 0]\n",
      "[ 0.11101391  0.01316534  0.20062588]\n",
      "[ 0.21667561  0.03772248  0.36210264]\n",
      "[ 0.30714191  0.06797028  0.53692128]\n",
      "[ 0.38194774  0.11808143  0.72018441]\n",
      "[ 0.45733798  0.17144363  0.89551629]\n",
      "[ 0.5062014   0.23616994  1.07167283]\n",
      "[ 0.55316268  0.32808052  1.24928927]\n",
      "[ 0.59204397  0.42298333  1.41256331]\n",
      "[ 0.61068586  0.52827197  1.60383144]\n",
      "[ 0.60807198  0.62990338  1.78279156]\n"
     ]
    }
   ],
   "source": [
    "x = np.array([0,0,0])\n",
    "u = np.array([0.1,10/180*math.pi]) # 毎回0.1だけ進めて10[deg]向きを変える\n",
    "print(x)\n",
    "for i in range(10):\n",
    "    x = f(x,u)\n",
    "    print(x)"
   ]
  },
  {
   "cell_type": "markdown",
   "metadata": {
    "collapsed": true
   },
   "source": [
    "### わからんので描画"
   ]
  },
  {
   "cell_type": "code",
   "execution_count": 7,
   "metadata": {},
   "outputs": [
    {
     "data": {
      "text/plain": [
       "<matplotlib.quiver.Quiver at 0x7f485c9e7400>"
      ]
     },
     "execution_count": 7,
     "metadata": {},
     "output_type": "execute_result"
    },
    {
     "data": {
      "image/png": "[encoded data removed]",
      "text/plain": [
       "<matplotlib.figure.Figure at 0x7f485ca13d30>"
      ]
     },
     "metadata": {},
     "output_type": "display_data"
    }
   ],
   "source": [
    "x = np.array([0,0,0])\n",
    "u = np.array([0.1,10/180*math.pi]) # 毎回0.1だけ進めて10[deg]向きを変える\n",
    "\n",
    "path = [x]\n",
    "for i in range(10):\n",
    "    x = f(x,u)\n",
    "    path.append(x)\n",
    "\n",
    "fig = plt.figure(i,figsize=(8, 8))\n",
    "sp = fig.add_subplot(111, aspect='equal')\n",
    "sp.set_xlim(-1.0,1.0)\n",
    "sp.set_ylim(-0.5,1.5)\n",
    "        \n",
    "xs = [e[0] for e in path]\n",
    "ys = [e[1] for e in path]\n",
    "vxs = [math.cos(e[2]) for e in path]\n",
    "vys = [math.sin(e[2]) for e in path]\n",
    "plt.quiver(xs,ys,vxs,vys,color=\"red\",label=\"actual robot motion\")"
   ]
  },
  {
   "cell_type": "markdown",
   "metadata": {},
   "source": [
    "## 10ステップ後の姿勢のばらつき"
   ]
  },
  {
   "cell_type": "code",
   "execution_count": 8,
   "metadata": {},
   "outputs": [
    {
     "data": {
      "text/plain": [
       "<matplotlib.quiver.Quiver at 0x7f485c9ce940>"
      ]
     },
     "execution_count": 8,
     "metadata": {},
     "output_type": "execute_result"
    },
    {
     "data": {
      "image/png": "[encoded data removed]",
      "text/plain": [
       "<matplotlib.figure.Figure at 0x7f485c9844a8>"
      ]
     },
     "metadata": {},
     "output_type": "display_data"
    }
   ],
   "source": [
    "path = []\n",
    "\n",
    "for j in range(100):\n",
    "    x = np.array([0,0,0])\n",
    "    u = np.array([0.1,10/180*math.pi]) # 毎回0.1だけ進めて10[deg]向きを変える\n",
    "\n",
    "    for i in range(10):\n",
    "        x = f(x,u)\n",
    "        \n",
    "    path.append(x)\n",
    "\n",
    "fig = plt.figure(i,figsize=(8, 8))\n",
    "sp = fig.add_subplot(111, aspect='equal')\n",
    "sp.set_xlim(-1.0,1.0)\n",
    "sp.set_ylim(-0.5,1.5)\n",
    "        \n",
    "xs = [e[0] for e in path]\n",
    "ys = [e[1] for e in path]\n",
    "vxs = [math.cos(e[2]) for e in path]\n",
    "vys = [math.sin(e[2]) for e in path]\n",
    "plt.quiver(xs,ys,vxs,vys,color=\"red\",label=\"actual robot motion\")"
   ]
  },
  {
   "cell_type": "code",
   "execution_count": null,
   "metadata": {},
   "outputs": [],
   "source": []
  }
 ],
 "metadata": {
  "kernelspec": {
   "display_name": "Python 3",
   "language": "python",
   "name": "python3"
  },
  "language_info": {
   "codemirror_mode": {
    "name": "ipython",
    "version": 3
   },
   "file_extension": ".py",
   "mimetype": "text/x-python",
   "name": "python",
   "nbconvert_exporter": "python",
   "pygments_lexer": "ipython3",
   "version": "3.5.2"
  }
 },
 "nbformat": 4,
 "nbformat_minor": 1
}
