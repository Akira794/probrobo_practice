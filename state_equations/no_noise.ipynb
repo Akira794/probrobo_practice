{
 "cells": [
  {
   "cell_type": "markdown",
   "metadata": {},
   "source": [
    "# 移動ロボットの状態遷移（ノイズなし）\n",
    "\n",
    "千葉工業大学 上田 隆一\n",
    "\n",
    "(c) 2017 Ryuichi Ueda\n",
    "\n",
    "This software is released under the MIT License, see LICENSE.\n",
    "\n",
    "## はじめに\n",
    "\n",
    "このコードは、移動ロボットの移動の簡単なモデルです。\n"
   ]
  },
  {
   "cell_type": "code",
   "execution_count": 1,
   "metadata": {},
   "outputs": [],
   "source": [
    "%matplotlib inline\n",
    "import numpy as np\n",
    "import math, random\n",
    "import matplotlib.pyplot as plt                   #   for plotting data"
   ]
  },
  {
   "cell_type": "markdown",
   "metadata": {
    "collapsed": true
   },
   "source": [
    "### 状態方程式に対応する関数\n",
    "\n",
    "下の例について、関数fを書きましょう。"
   ]
  },
  {
   "cell_type": "markdown",
   "metadata": {
    "collapsed": true
   },
   "source": [
    "```python\n",
    "old_x = np.array([0,0,0])    # 今回は不要だがnumpyを使用\n",
    "u = np.array([0.1,10/180*math.pi]) # 毎回0.1だけ進めて10[deg]向きを変える\n",
    "\n",
    "def f(x_old,u):\n",
    "    なにかコードを書く\n",
    "    return x_new\n",
    "```"
   ]
  },
  {
   "cell_type": "markdown",
   "metadata": {
    "collapsed": true
   },
   "source": [
    "#### 解答例"
   ]
  },
  {
   "cell_type": "code",
   "execution_count": 9,
   "metadata": {},
   "outputs": [],
   "source": [
    "def f(x_old,u):\n",
    "    # わかりにくいのでバラす\n",
    "    pos_x, pos_y, pos_theta = x_old\n",
    "    act_fw, act_rot = u\n",
    "    \n",
    "    pos_x += act_fw * math.cos(pos_theta)\n",
    "    pos_y += act_fw * math.sin(pos_theta)\n",
    "    pos_theta += act_rot\n",
    "    \n",
    "    return np.array([pos_x,pos_y,pos_theta])"
   ]
  },
  {
   "cell_type": "markdown",
   "metadata": {
    "collapsed": true
   },
   "source": [
    "### 実行！\n",
    "\n",
    "10ステップ動貸してみましょう。"
   ]
  },
  {
   "cell_type": "code",
   "execution_count": 10,
   "metadata": {},
   "outputs": [
    {
     "name": "stdout",
     "output_type": "stream",
     "text": [
      "[0 0 0]\n",
      "[ 0.1         0.          0.17453293]\n",
      "[ 0.19848078  0.01736482  0.34906585]\n",
      "[ 0.29245004  0.05156683  0.52359878]\n",
      "[ 0.37905258  0.10156683  0.6981317 ]\n",
      "[ 0.45565702  0.16584559  0.87266463]\n",
      "[ 0.51993578  0.24245004  1.04719755]\n",
      "[ 0.56993578  0.32905258  1.22173048]\n",
      "[ 0.6041378   0.42302184  1.3962634 ]\n",
      "[ 0.62150262  0.52150262  1.57079633]\n",
      "[ 0.62150262  0.62150262  1.74532925]\n"
     ]
    }
   ],
   "source": [
    "x = np.array([0,0,0])\n",
    "u = np.array([0.1,10/180*math.pi]) # 毎回0.1だけ進めて10[deg]向きを変える\n",
    "print(x)\n",
    "for i in range(10):\n",
    "    x = f(x,u)\n",
    "    print(x)"
   ]
  },
  {
   "cell_type": "markdown",
   "metadata": {
    "collapsed": true
   },
   "source": [
    "### わからんので描画"
   ]
  },
  {
   "cell_type": "code",
   "execution_count": 11,
   "metadata": {},
   "outputs": [
    {
     "data": {
      "text/plain": [
       "<matplotlib.quiver.Quiver at 0x7fc0184ab2e8>"
      ]
     },
     "execution_count": 11,
     "metadata": {},
     "output_type": "execute_result"
    },
    {
     "data": {
      "image/png": "[encoded data removed]",
      "text/plain": [
       "<matplotlib.figure.Figure at 0x7fc01a502860>"
      ]
     },
     "metadata": {},
     "output_type": "display_data"
    }
   ],
   "source": [
    "x = np.array([0,0,0])\n",
    "u = np.array([0.1,10/180*math.pi]) # 毎回0.1だけ進めて10[deg]向きを変える\n",
    "\n",
    "path = [x]\n",
    "for i in range(10):\n",
    "    x = f(x,u)\n",
    "    path.append(x)\n",
    "\n",
    "fig = plt.figure(i,figsize=(8, 8))\n",
    "sp = fig.add_subplot(111, aspect='equal')\n",
    "sp.set_xlim(-1.0,1.0)\n",
    "sp.set_ylim(-0.5,1.5)\n",
    "        \n",
    "xs = [e[0] for e in path]\n",
    "ys = [e[1] for e in path]\n",
    "vxs = [math.cos(e[2]) for e in path]\n",
    "vys = [math.sin(e[2]) for e in path]\n",
    "plt.quiver(xs,ys,vxs,vys,color=\"red\",label=\"actual robot motion\")"
   ]
  }
 ],
 "metadata": {
  "kernelspec": {
   "display_name": "Python 3",
   "language": "python",
   "name": "python3"
  },
  "language_info": {
   "codemirror_mode": {
    "name": "ipython",
    "version": 3
   },
   "file_extension": ".py",
   "mimetype": "text/x-python",
   "name": "python",
   "nbconvert_exporter": "python",
   "pygments_lexer": "ipython3",
   "version": "3.5.2"
  }
 },
 "nbformat": 4,
 "nbformat_minor": 1
}
