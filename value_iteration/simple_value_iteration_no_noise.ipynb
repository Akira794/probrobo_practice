{
 "cells": [
  {
   "cell_type": "markdown",
   "metadata": {},
   "source": [
    "# 価値反復\n",
    "\n",
    "千葉工業大学 上田 隆一\n",
    "\n",
    "(c) 2017 Ryuichi Ueda\n",
    "\n",
    "This software is released under the MIT License, see LICENSE.\n",
    "\n",
    "## はじめに\n",
    "\n",
    "このコードは、価値反復の実装の例です。\n"
   ]
  },
  {
   "cell_type": "code",
   "execution_count": 20,
   "metadata": {},
   "outputs": [
    {
     "data": {
      "image/png": "[encoded data removed]",
      "text/plain": [
       "<matplotlib.figure.Figure at 0x10dba91d0>"
      ]
     },
     "metadata": {},
     "output_type": "display_data"
    }
   ],
   "source": [
    "%matplotlib inline\n",
    "import matplotlib.pyplot as plt  \n",
    "import numpy as np\n",
    "\n",
    "values = [[1,2,3],[4,5,6],[7,8,0]]   # 3x3のマス目の世界を作る。座標はvaluesの添え字で表す\n",
    "goals = [(2,2)]                                    # ゴールを1個だけ座標(2,2)に置く\n",
    "\n",
    "# 描画\n",
    "def draw(data):\n",
    "    fig, ax = plt.subplots()\n",
    "    mp = ax.pcolor(data, cmap=plt.cm.YlOrRd,vmin=0,vmax=8)\n",
    "    ax.set_aspect(1)\n",
    "    ax.set_xticks([0,1,2], minor=False)\n",
    "    ax.set_yticks([0,1,2], minor=False)\n",
    "    \n",
    "    for x in range(len(values)):\n",
    "        for y in range(len(values[0])):\n",
    "            plt.text(x+0.5,y+0.5,values[x][y],ha = 'center', va = 'center', size=20)\n",
    "            \n",
    "    for g in goals:\n",
    "            plt.text(g[0]+0.75,g[1]+0.75,\"G\",ha = 'center', va = 'center', size=20)\n",
    "        \n",
    "            \n",
    "    plt.show()\n",
    "    \n",
    "draw(values)"
   ]
  },
  {
   "cell_type": "code",
   "execution_count": null,
   "metadata": {
    "collapsed": true
   },
   "outputs": [],
   "source": []
  }
 ],
 "metadata": {
  "kernelspec": {
   "display_name": "Python 3",
   "language": "python",
   "name": "python3"
  },
  "language_info": {
   "codemirror_mode": {
    "name": "ipython",
    "version": 3
   },
   "file_extension": ".py",
   "mimetype": "text/x-python",
   "name": "python",
   "nbconvert_exporter": "python",
   "pygments_lexer": "ipython3",
   "version": "3.6.1"
  }
 },
 "nbformat": 4,
 "nbformat_minor": 2
}
