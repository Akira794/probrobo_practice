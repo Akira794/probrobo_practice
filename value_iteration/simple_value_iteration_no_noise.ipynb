{
 "cells": [
  {
   "cell_type": "markdown",
   "metadata": {},
   "source": [
    "# 価値反復\n",
    "\n",
    "千葉工業大学 上田 隆一\n",
    "\n",
    "(c) 2017 Ryuichi Ueda\n",
    "\n",
    "This software is released under the MIT License, see LICENSE.\n",
    "\n",
    "## はじめに\n",
    "\n",
    "このコードは、価値反復の実装の例です。\n",
    "\n",
    "\n",
    "## 問題\n",
    "\n",
    "次のような簡単な問題を扱います。\n",
    "\n",
    "3x3の碁盤の世界を準備します。ロボットはマス目のどこかに存在し、1歩で上下左右に1マス移動できます。右上をゴールにして、あるマス目をスタート地点とするとき、何歩でゴールに達するかを、全マス目に対して計算しましょう。ただし、この世界は壁に囲まれていて、壁を超えて移動しようとすると元のマスに戻されます。\n",
    "\n",
    "\n",
    "## 準備\n",
    "\n",
    "次のような変数を準備します。\n",
    "\n",
    "* costs: 各マスをスタートにしたときのゴールまでの歩数を記録する2次元のリスト\n",
    "* goal: ゴールの座標。ゴールは2つ以上でも酔いが、この問題では1個だけ\n",
    "* actions: ロボットが選択できる行動のリスト\n",
    "\n",
    "valuesの初期値はデタラメで大丈夫ですが、ゴールに相当するマス目のものだけ正解の0にセットしておきます。\n"
   ]
  },
  {
   "cell_type": "code",
   "execution_count": 1,
   "metadata": {
    "collapsed": true
   },
   "outputs": [],
   "source": [
    "%matplotlib inline\n",
    "import matplotlib.pyplot as plt  \n",
    "import numpy as np\n",
    "\n",
    "size = 3                                                       # 1辺が3マス\n",
    "costs = [[1,2,3],[4,5,6],[7,8,0]]           # 3x3のマス目の世界を作る。座標はこのリストの添え字で表す\n",
    "goal = (2,2)                                               # ゴールを1個だけ座標(2,2)に置く\n",
    "actions = [\"up\",\"down\",\"left\",\"right\"]  # ロボットが選択できる行動のリスト\n",
    "\n",
    "# 指定した座標のコストを返す補助の関数\n",
    "def cost(pos): \n",
    "    p = [pos[0],pos[1]]\n",
    "    \n",
    "    for i in [0,1]:  # 壁にぶつかったらそのまま\n",
    "        if p[i] < 0:        p[i] = 0\n",
    "        if p[i] >= size: p[i] = size - 1\n",
    "            \n",
    "    return costs[p[0]][p[1]]"
   ]
  },
  {
   "cell_type": "markdown",
   "metadata": {},
   "source": [
    "## 描画"
   ]
  },
  {
   "cell_type": "code",
   "execution_count": 2,
   "metadata": {},
   "outputs": [
    {
     "data": {
      "image/png": "[encoded data removed]",
      "text/plain": [
       "<matplotlib.figure.Figure at 0x110829780>"
      ]
     },
     "metadata": {},
     "output_type": "display_data"
    }
   ],
   "source": [
    "def draw(data):\n",
    "    fig, ax = plt.subplots()\n",
    "    mp = ax.pcolor(data, cmap=plt.cm.YlOrRd,vmin=0,vmax=8)\n",
    "    ax.set_aspect(1)\n",
    "    ax.set_xticks([0,1,2], minor=False)\n",
    "    ax.set_yticks([0,1,2], minor=False)\n",
    "    \n",
    "    for x in range(len(costs)):\n",
    "        for y in range(len(costs[0])):\n",
    "            plt.text(x+0.5,y+0.5,costs[x][y],ha = 'center', va = 'center', size=20)\n",
    "            \n",
    "    plt.text(goal[0]+0.75,goal[1]+0.75,\"G\",ha = 'center', va = 'center', size=20)\n",
    "        \n",
    "            \n",
    "    plt.show()\n",
    "    \n",
    "draw(costs)"
   ]
  },
  {
   "cell_type": "markdown",
   "metadata": {
    "collapsed": true
   },
   "source": [
    "## 問題を価値反復で解く"
   ]
  },
  {
   "cell_type": "code",
   "execution_count": 3,
   "metadata": {},
   "outputs": [
    {
     "data": {
      "image/png": "[encoded data removed]",
      "text/plain": [
       "<matplotlib.figure.Figure at 0x1109107f0>"
      ]
     },
     "metadata": {},
     "output_type": "display_data"
    },
    {
     "data": {
      "image/png": "[encoded data removed]",
      "text/plain": [
       "<matplotlib.figure.Figure at 0x110829978>"
      ]
     },
     "metadata": {},
     "output_type": "display_data"
    },
    {
     "data": {
      "image/png": "[encoded data removed]",
      "text/plain": [
       "<matplotlib.figure.Figure at 0x110959358>"
      ]
     },
     "metadata": {},
     "output_type": "display_data"
    },
    {
     "data": {
      "image/png": "[encoded data removed]",
      "text/plain": [
       "<matplotlib.figure.Figure at 0x110a27358>"
      ]
     },
     "metadata": {},
     "output_type": "display_data"
    }
   ],
   "source": [
    "def action_value(pos, action, costs, goal):\n",
    "    if pos == goal: return cost(pos)    # ゴールの価値は不変\n",
    "    \n",
    "    if    action == \"up\":      return 1+cost((pos[0],pos[1]+1))\n",
    "    elif action == \"down\": return 1+cost((pos[0],pos[1]-1))\n",
    "    elif action == \"left\":    return 1+cost((pos[0]-1,pos[1]))\n",
    "    elif action == \"right\":  return 1+cost((pos[0]+1,pos[1]))\n",
    "    \n",
    "def sweep():\n",
    "    for x in range(size):\n",
    "        for y in range(size):\n",
    "            min_cost = 100\n",
    "            for a in actions:\n",
    "                c = action_value((x,y), a, costs, goal)\n",
    "                min_cost = c if c < min_cost else min_cost\n",
    "\n",
    "            costs[x][y] = min_cost\n",
    "\n",
    "    draw(costs)\n",
    "\n",
    "for i in range(4):\n",
    "    sweep()"
   ]
  }
 ],
 "metadata": {
  "kernelspec": {
   "display_name": "Python 3",
   "language": "python",
   "name": "python3"
  },
  "language_info": {
   "codemirror_mode": {
    "name": "ipython",
    "version": 3
   },
   "file_extension": ".py",
   "mimetype": "text/x-python",
   "name": "python",
   "nbconvert_exporter": "python",
   "pygments_lexer": "ipython3",
   "version": "3.6.1"
  }
 },
 "nbformat": 4,
 "nbformat_minor": 2
}
