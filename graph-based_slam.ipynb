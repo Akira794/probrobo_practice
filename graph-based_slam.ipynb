{
 "cells": [
  {
   "cell_type": "code",
   "execution_count": 65,
   "metadata": {
    "collapsed": false
   },
   "outputs": [],
   "source": [
    "%matplotlib inline\n",
    "import numpy as np\n",
    "import math\n",
    "import matplotlib.pyplot as plt\n",
    "\n",
    "class Landmark:\n",
    "    def __init__(self,x,y):\n",
    "        self.position = np.array([x,y])\n",
    "        \n",
    "    def __str__(self):\n",
    "        return \"(%f,%f)\" % (self.position[0],self.position[1]) \n",
    "    \n",
    "    def getX(self):\n",
    "        return self.position[0]\n",
    "    \n",
    "    def getY(self):\n",
    "        return self.position[1]\n",
    "    "
   ]
  },
  {
   "cell_type": "code",
   "execution_count": 66,
   "metadata": {
    "collapsed": false
   },
   "outputs": [],
   "source": [
    "actual_landmarks = (Landmark(0,0),Landmark(1,0),Landmark(0.5,0.5))"
   ]
  },
  {
   "cell_type": "code",
   "execution_count": 67,
   "metadata": {
    "collapsed": false
   },
   "outputs": [],
   "source": [
    "xs = [e.getX() for e in actual_landmarks]\n",
    "ys = [e.getY() for e in actual_landmarks]"
   ]
  },
  {
   "cell_type": "code",
   "execution_count": 68,
   "metadata": {
    "collapsed": false
   },
   "outputs": [
    {
     "data": {
      "text/plain": [
       "<matplotlib.collections.PathCollection at 0x10dfb2240>"
      ]
     },
     "execution_count": 68,
     "metadata": {},
     "output_type": "execute_result"
    },
    {
     "data": {
      "image/png": "[encoded data removed]",
      "text/plain": [
       "<matplotlib.figure.Figure at 0x10d231cf8>"
      ]
     },
     "metadata": {},
     "output_type": "display_data"
    }
   ],
   "source": [
    "plt.scatter(xs,ys)"
   ]
  },
  {
   "cell_type": "code",
   "execution_count": 89,
   "metadata": {
    "collapsed": true
   },
   "outputs": [],
   "source": [
    "class Robot:\n",
    "    def __init__(self,x,y,rad):\n",
    "        self.poses = [np.array([x,y,rad])]\n",
    "        \n",
    "    def getX(self):             return self.poses[-1][0]\n",
    "    def getY(self):             return self.poses[-1][1]\n",
    "    def getTheta(self):     return self.poses[-1][2]\n",
    "    def getXs(self):        return [e[0] for e in self.poses]\n",
    "    def getYs(self):        return [e[1] for e in self.poses]\n",
    "    def getThetas(self):        return [e[2] for e in self.poses]\n",
    "    \n",
    "    def move(self,fw,rot):\n",
    "        x = self.getX() + fw * math.cos(self.getTheta())\n",
    "        y = self.getY() + fw * math.sin(self.getTheta()) \n",
    "        rad = self.getTheta() + rot\n",
    "        self.poses.append(np.array([x,y,rad]))"
   ]
  },
  {
   "cell_type": "code",
   "execution_count": 90,
   "metadata": {
    "collapsed": false
   },
   "outputs": [],
   "source": [
    "robot = Robot(0,0,0)\n",
    "\n",
    "for i in range(5):\n",
    "    robot.move(0.2,3.14/6)"
   ]
  },
  {
   "cell_type": "code",
   "execution_count": 93,
   "metadata": {
    "collapsed": false
   },
   "outputs": [
    {
     "data": {
      "text/plain": [
       "<matplotlib.collections.PathCollection at 0x10e5406d8>"
      ]
     },
     "execution_count": 93,
     "metadata": {},
     "output_type": "execute_result"
    },
    {
     "data": {
      "image/png": "[encoded data removed]",
      "text/plain": [
       "<matplotlib.figure.Figure at 0x10e075c88>"
      ]
     },
     "metadata": {},
     "output_type": "display_data"
    }
   ],
   "source": [
    "rxs = robot.getXs()\n",
    "rys = robot.getYs()\n",
    "plt.scatter(rxs,rys)"
   ]
  },
  {
   "cell_type": "code",
   "execution_count": null,
   "metadata": {
    "collapsed": true
   },
   "outputs": [],
   "source": []
  }
 ],
 "metadata": {
  "kernelspec": {
   "display_name": "Python 3",
   "language": "python",
   "name": "python3"
  },
  "language_info": {
   "codemirror_mode": {
    "name": "ipython",
    "version": 3
   },
   "file_extension": ".py",
   "mimetype": "text/x-python",
   "name": "python",
   "nbconvert_exporter": "python",
   "pygments_lexer": "ipython3",
   "version": "3.5.1"
  }
 },
 "nbformat": 4,
 "nbformat_minor": 0
}
