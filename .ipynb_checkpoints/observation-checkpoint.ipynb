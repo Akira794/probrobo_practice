{
 "cells": [
  {
   "cell_type": "code",
   "execution_count": 121,
   "metadata": {
    "collapsed": false
   },
   "outputs": [],
   "source": [
    "%matplotlib inline\n",
    "import numpy as np\n",
    "import math, random\n",
    "import matplotlib.pyplot as plt\n",
    "\n",
    "class Landmark:\n",
    "    def __init__(self,x,y):\n",
    "        self.position = np.array([x,y])\n",
    "        \n",
    "    def __str__(self):\n",
    "        return \"(%f,%f)\" % (self.position[0],self.position[1]) \n",
    "    \n",
    "    def getX(self):\n",
    "        return self.position[0]\n",
    "    \n",
    "    def getY(self):\n",
    "        return self.position[1]\n",
    "    "
   ]
  },
  {
   "cell_type": "code",
   "execution_count": 147,
   "metadata": {
    "collapsed": false
   },
   "outputs": [],
   "source": [
    "actual_landmarks = (Landmark(-0.5,0),Landmark(0.5,0),Landmark(0,0.5))"
   ]
  },
  {
   "cell_type": "code",
   "execution_count": 148,
   "metadata": {
    "collapsed": false
   },
   "outputs": [],
   "source": [
    "xs = [e.getX() for e in actual_landmarks]\n",
    "ys = [e.getY() for e in actual_landmarks]"
   ]
  },
  {
   "cell_type": "code",
   "execution_count": 149,
   "metadata": {
    "collapsed": false
   },
   "outputs": [
    {
     "data": {
      "text/plain": [
       "<matplotlib.collections.PathCollection at 0x10ffa0f98>"
      ]
     },
     "execution_count": 149,
     "metadata": {},
     "output_type": "execute_result"
    },
    {
     "data": {
      "image/png": "[encoded data removed]",
      "text/plain": [
       "<matplotlib.figure.Figure at 0x10fdc3358>"
      ]
     },
     "metadata": {},
     "output_type": "display_data"
    }
   ],
   "source": [
    "plt.scatter(xs,ys,s=300,marker=\"*\")"
   ]
  },
  {
   "cell_type": "code",
   "execution_count": 1,
   "metadata": {
    "collapsed": true
   },
   "outputs": [],
   "source": [
    "class Robot:\n",
    "    def __init__(self,x,y,rad):\n",
    "        self.actual_poses = [np.array([x,y,rad])]\n",
    "        self.guess_poses = [np.array([x,y,rad])]\n",
    "        random.seed()\n",
    "        \n",
    "    def getX(self):             return self.actual_poses[-1][0]\n",
    "    def getY(self):             return self.actual_poses[-1][1]\n",
    "    def getTheta(self):     return self.actual_poses[-1][2]\n",
    "    \n",
    "    def getActualXs(self):           return [e[0] for e in self.actual_poses]\n",
    "    def getActualYs(self):           return [e[1] for e in self.actual_poses]\n",
    "    def getActualThetas(self):   return [e[2] for e in self.actual_poses]\n",
    "    def getActualDXs(self):           return [math.cos(e[2]) for e in self.actual_poses]\n",
    "    def getActualDYs(self):           return [math.sin(e[2]) for e in self.actual_poses]\n",
    "    \n",
    "    def getGuessXs(self):           return [e[0] for e in self.guess_poses]\n",
    "    def getGuessYs(self):           return [e[1] for e in self.guess_poses]\n",
    "    def getGuessThetas(self):   return [e[2] for e in self.guess_poses]\n",
    "    def getGuessDXs(self):   return [math.cos(e[2]) for e in self.guess_poses]\n",
    "    def getGuessDYs(self):   return [math.sin(e[2]) for e in self.guess_poses]\n",
    "    \n",
    "    def move(self,fw,rot):\n",
    "        actual_fw = random.gauss(fw,fw/10)    #10% noise\n",
    "        actual_rot = random.gauss(rot,rot/10) #10% noise\n",
    "        \n",
    "        p = self.actual_poses[-1]\n",
    "        px, py, pt = p[0],p[1],p[2]\n",
    "        x = px + actual_fw * math.cos(pt)\n",
    "        y = py + actual_fw * math.sin(pt)\n",
    "        t = pt + actual_rot\n",
    "        self.actual_poses.append(np.array([x,y,t]))\n",
    "        \n",
    "        g = self.guess_poses[-1]\n",
    "        gx, gy, gt = g[0],g[1],g[2]\n",
    "        x = gx + fw * math.cos(gt)\n",
    "        y = gy + fw * math.sin(gt)\n",
    "        t = gt + rot\n",
    "        self.guess_poses.append(np.array([x,y,t]))\n",
    "        \n",
    "    def observation(self,landmarks):\n",
    "        pass"
   ]
  },
  {
   "cell_type": "code",
   "execution_count": 176,
   "metadata": {
    "collapsed": false
   },
   "outputs": [],
   "source": [
    "robot = Robot(0,0,0)\n",
    "\n",
    "for i in range(10):\n",
    "    robot.move(0.3,3.14/6)"
   ]
  },
  {
   "cell_type": "code",
   "execution_count": 177,
   "metadata": {
    "collapsed": false
   },
   "outputs": [
    {
     "data": {
      "text/plain": [
       "<matplotlib.legend.Legend at 0x110e538d0>"
      ]
     },
     "execution_count": 177,
     "metadata": {},
     "output_type": "execute_result"
    },
    {
     "data": {
      "image/png": "[encoded data removed]",
      "text/plain": [
       "<matplotlib.figure.Figure at 0x110eaeb70>"
      ]
     },
     "metadata": {},
     "output_type": "display_data"
    }
   ],
   "source": [
    "plt.scatter(xs,ys,s=300,marker=\"*\",label=\"landmarks\",color=\"orange\")\n",
    "plt.quiver(robot.getActualXs(),robot.getActualYs(),robot.getActualDXs(),robot.getActualDYs(),\n",
    "           color=\"red\",label=\"actual robot motion\")\n",
    "plt.quiver(robot.getGuessXs(),robot.getGuessYs(),robot.getGuessDXs(),robot.getGuessDYs(),\n",
    "           color=\"blue\",label=\"robot guess\")\n",
    "plt.legend()"
   ]
  },
  {
   "cell_type": "code",
   "execution_count": null,
   "metadata": {
    "collapsed": true
   },
   "outputs": [],
   "source": []
  }
 ],
 "metadata": {
  "kernelspec": {
   "display_name": "Python 3",
   "language": "python",
   "name": "python3"
  },
  "language_info": {
   "codemirror_mode": {
    "name": "ipython",
    "version": 3
   },
   "file_extension": ".py",
   "mimetype": "text/x-python",
   "name": "python",
   "nbconvert_exporter": "python",
   "pygments_lexer": "ipython3",
   "version": "3.5.1"
  }
 },
 "nbformat": 4,
 "nbformat_minor": 0
}
