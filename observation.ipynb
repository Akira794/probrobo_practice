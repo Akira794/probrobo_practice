{
 "cells": [
  {
   "cell_type": "code",
   "execution_count": 11,
   "metadata": {
    "collapsed": false
   },
   "outputs": [],
   "source": [
    "%matplotlib inline\n",
    "import numpy as np\n",
    "import math, random\n",
    "import matplotlib.pyplot as plt\n",
    "\n",
    "class Landmark:\n",
    "    def __init__(self,x,y):\n",
    "        self.position = np.array([x,y])\n",
    "        \n",
    "    def __str__(self):\n",
    "        return \"(%f,%f)\" % (self.position[0],self.position[1]) \n",
    "    \n",
    "    def getX(self):\n",
    "        return self.position[0]\n",
    "    \n",
    "    def getY(self):\n",
    "        return self.position[1]\n",
    "    "
   ]
  },
  {
   "cell_type": "code",
   "execution_count": 12,
   "metadata": {
    "collapsed": false
   },
   "outputs": [],
   "source": [
    "actual_landmarks = (Landmark(-0.5,0),Landmark(0.5,0),Landmark(0,0.5))"
   ]
  },
  {
   "cell_type": "code",
   "execution_count": 13,
   "metadata": {
    "collapsed": false
   },
   "outputs": [],
   "source": [
    "xs = [e.getX() for e in actual_landmarks]\n",
    "ys = [e.getY() for e in actual_landmarks]"
   ]
  },
  {
   "cell_type": "code",
   "execution_count": 14,
   "metadata": {
    "collapsed": false
   },
   "outputs": [
    {
     "data": {
      "text/plain": [
       "<matplotlib.collections.PathCollection at 0x10756e4e0>"
      ]
     },
     "execution_count": 14,
     "metadata": {},
     "output_type": "execute_result"
    },
    {
     "data": {
      "image/png": "[encoded data removed]",
      "text/plain": [
       "<matplotlib.figure.Figure at 0x105f90e48>"
      ]
     },
     "metadata": {},
     "output_type": "display_data"
    }
   ],
   "source": [
    "plt.scatter(xs,ys,s=300,marker=\"*\")"
   ]
  },
  {
   "cell_type": "code",
   "execution_count": 122,
   "metadata": {
    "collapsed": false
   },
   "outputs": [],
   "source": [
    "class Robot:\n",
    "    def __init__(self,x,y,rad):\n",
    "        self.actual_poses = [np.array([x,y,rad])]\n",
    "        self.guess_poses = [np.array([x,y,rad])]\n",
    "        self.observed_landmarks = []\n",
    "        random.seed()\n",
    "        \n",
    "        self.step = 0\n",
    "        \n",
    "        self.sensor_max_range = 1.0\n",
    "        self.sensor_min_range = 0.1\n",
    "        self.sensor_max_angle = math.pi / 2\n",
    "        self.sensor_min_angle = - math.pi /2 \n",
    "        \n",
    "    def getGuessX(self):             return self.guess_poses[-1][0]\n",
    "    def getGuessY(self):             return self.guess_poses[-1][1]\n",
    "    def getGuessTheta(self):     return self.guess_poses[-1][2]\n",
    "    \n",
    "    def getActualXs(self):           return [e[0] for e in self.actual_poses]\n",
    "    def getActualYs(self):           return [e[1] for e in self.actual_poses]\n",
    "    def getActualThetas(self):   return [e[2] for e in self.actual_poses]\n",
    "    def getActualDXs(self):           return [math.cos(e[2]) for e in self.actual_poses]\n",
    "    def getActualDYs(self):           return [math.sin(e[2]) for e in self.actual_poses]\n",
    "    \n",
    "    def getGuessXs(self):           return [e[0] for e in self.guess_poses]\n",
    "    def getGuessYs(self):           return [e[1] for e in self.guess_poses]\n",
    "    def getGuessThetas(self):   return [e[2] for e in self.guess_poses]\n",
    "    def getGuessDXs(self):   return [math.cos(e[2]) for e in self.guess_poses]\n",
    "    def getGuessDYs(self):   return [math.sin(e[2]) for e in self.guess_poses]\n",
    "    \n",
    "    def getObservationXs(self): return [e[\"pos\"][0] for e in self.observed_landmarks]\n",
    "    def getObservationYs(self): return [e[\"pos\"][1] for e in self.observed_landmarks]\n",
    "    \n",
    "    def printObservations(self):\n",
    "        for e in self.observed_landmarks:\n",
    "            print(\"step: %d, id: %d, measurement: (%f,%f), pos: (%f,%f)\" % (e[\"step\"],e[\"id\"],e[\"measurement\"][0],e[\"measurement\"][1],e[\"pos\"][0],e[\"pos\"][1]) )\n",
    "    \n",
    "    def move(self,fw,rot):\n",
    "        self.step += 1\n",
    "        \n",
    "        actual_fw = random.gauss(fw,fw/10)    #10% noise\n",
    "        actual_rot = random.gauss(rot,rot/10) #10% noise\n",
    "        \n",
    "        p = self.actual_poses[-1]\n",
    "        px, py, pt = p[0],p[1],p[2]\n",
    "        x = px + actual_fw * math.cos(pt)\n",
    "        y = py + actual_fw * math.sin(pt)\n",
    "        t = pt + actual_rot\n",
    "        self.actual_poses.append(np.array([x,y,t]))\n",
    "        \n",
    "        g = self.guess_poses[-1]\n",
    "        gx, gy, gt = g[0],g[1],g[2]\n",
    "        x = gx + fw * math.cos(gt)\n",
    "        y = gy + fw * math.sin(gt)\n",
    "        t = gt + rot\n",
    "        self.guess_poses.append(np.array([x,y,t]))\n",
    "        \n",
    "    def observe(self,landmarks):\n",
    "        observed = []\n",
    "        rx,ry,rt = self.getGuessX(),self.getGuessY(),self.getGuessTheta()\n",
    "        for i,landmark in enumerate(landmarks):\n",
    "            lx,ly = landmark.getX(),landmark.getY()\n",
    "            distance = math.sqrt((rx-lx)**2 + (ry-ly)**2)\n",
    "            if distance > self.sensor_max_range or distance < self.sensor_min_range:\n",
    "                continue\n",
    "                \n",
    "            direction = math.atan2(ly-ry, lx-rx) - rt\n",
    "            if direction > math.pi:    direction -= 2*math.pi\n",
    "            if direction < -math.pi:   direction += 2*math.pi\n",
    "            \n",
    "            if direction > self.sensor_max_angle or direction < self.sensor_min_angle:\n",
    "                continue\n",
    "            \n",
    "            #add noise\n",
    "            distance = random.gauss(distance,distance/10)   #10% gauss noise\n",
    "            direction = random.gauss(direction,math.pi * 10 /180)   #10deg gauss noise\n",
    "            \n",
    "            x = rx + distance * math.cos(rt + direction)\n",
    "            y = ry + distance * math.sin(rt + direction)\n",
    "            \n",
    "            self.observed_landmarks.append( {\"step\":self.step, \"id\":i, \"measurement\": (distance,direction),\"pos\":(x,y)} )\n",
    "            \n",
    "            "
   ]
  },
  {
   "cell_type": "code",
   "execution_count": 127,
   "metadata": {
    "collapsed": false
   },
   "outputs": [],
   "source": [
    "robot = Robot(0,0,0)\n",
    "\n",
    "for i in range(20):\n",
    "    robot.observe(actual_landmarks)\n",
    "    robot.move(0.3,3.14/6)"
   ]
  },
  {
   "cell_type": "code",
   "execution_count": 128,
   "metadata": {
    "collapsed": false
   },
   "outputs": [
    {
     "data": {
      "text/plain": [
       "<matplotlib.legend.Legend at 0x1095694e0>"
      ]
     },
     "execution_count": 128,
     "metadata": {},
     "output_type": "execute_result"
    },
    {
     "data": {
      "image/png": "[encoded data removed]",
      "text/plain": [
       "<matplotlib.figure.Figure at 0x1095691d0>"
      ]
     },
     "metadata": {},
     "output_type": "display_data"
    }
   ],
   "source": [
    "plt.scatter(xs,ys,s=300,marker=\"*\",label=\"actual landmarks\",color=\"orange\")\n",
    "plt.quiver(robot.getActualXs(),robot.getActualYs(),robot.getActualDXs(),robot.getActualDYs(),\n",
    "           color=\"red\",label=\"actual robot motion\")\n",
    "plt.quiver(robot.getGuessXs(),robot.getGuessYs(),robot.getGuessDXs(),robot.getGuessDYs(),\n",
    "           color=\"blue\",label=\"robot guess\")\n",
    "plt.scatter(robot.getObservationXs(),robot.getObservationYs(),s=100,marker=\"*\",label=\"guess landmarks\",color=\"red\")\n",
    "plt.legend()"
   ]
  },
  {
   "cell_type": "code",
   "execution_count": null,
   "metadata": {
    "collapsed": true
   },
   "outputs": [],
   "source": []
  }
 ],
 "metadata": {
  "kernelspec": {
   "display_name": "Python 3",
   "language": "python",
   "name": "python3"
  },
  "language_info": {
   "codemirror_mode": {
    "name": "ipython",
    "version": 3
   },
   "file_extension": ".py",
   "mimetype": "text/x-python",
   "name": "python",
   "nbconvert_exporter": "python",
   "pygments_lexer": "ipython3",
   "version": "3.5.1"
  }
 },
 "nbformat": 4,
 "nbformat_minor": 0
}
