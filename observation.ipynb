{
 "cells": [
  {
   "cell_type": "code",
   "execution_count": 160,
   "metadata": {
    "collapsed": false
   },
   "outputs": [],
   "source": [
    "%matplotlib inline\n",
    "import numpy as np\n",
    "import math, random\n",
    "import matplotlib.pyplot as plt\n",
    "from matplotlib.patches import Ellipse\n",
    "\n",
    "class Landmark:\n",
    "    def __init__(self,x,y):\n",
    "        self.position = np.array([x,y])\n",
    "        \n",
    "    def __str__(self):\n",
    "        return \"(%f,%f)\" % (self.position[0],self.position[1]) \n",
    "    \n",
    "    def getX(self):\n",
    "        return self.position[0]\n",
    "    \n",
    "    def getY(self):\n",
    "        return self.position[1]\n",
    "    \n",
    "actual_landmarks = (Landmark(-0.5,0),Landmark(0.5,0),Landmark(0,0.5))"
   ]
  },
  {
   "cell_type": "code",
   "execution_count": 163,
   "metadata": {
    "collapsed": false
   },
   "outputs": [
    {
     "data": {
      "text/plain": [
       "<matplotlib.collections.PathCollection at 0x10a097278>"
      ]
     },
     "execution_count": 163,
     "metadata": {},
     "output_type": "execute_result"
    },
    {
     "data": {
      "image/png": "[encoded data removed]",
      "text/plain": [
       "<matplotlib.figure.Figure at 0x109fa21d0>"
      ]
     },
     "metadata": {},
     "output_type": "display_data"
    }
   ],
   "source": [
    "lxs = [e.getX() for e in actual_landmarks]\n",
    "lys = [e.getY() for e in actual_landmarks]\n",
    "plt.scatter(lxs,lys,s=300,marker=\"*\",label=\"actual landmarks\",color=\"orange\")"
   ]
  },
  {
   "cell_type": "code",
   "execution_count": 176,
   "metadata": {
    "collapsed": true
   },
   "outputs": [],
   "source": [
    "class Gaussian2D:\n",
    "    def __init__(self,sigma_x = 1.0, sigma_y = 1.0, cov_xy = 0.0,mu_x = 0.0, mu_y = 0.0):\n",
    "        self.cov = np.array([[sigma_x,cov_xy],[cov_xy,sigma_y]])\n",
    "        self.mean = np.array([mu_x,mu_y]).T\n",
    "        \n",
    "    def shift(self,delta,angle):\n",
    "        ca = math.cos(angle)\n",
    "        sa = math.sin(angle)\n",
    "        rot = np.array([[ca,sa],[-sa,ca]])\n",
    "        \n",
    "        self.cov = rot.dot(self.cov).dot(rot.T)\n",
    "        self.mean = self.mean + delta\n",
    "        \n",
    "    def value(self, pos):\n",
    "        delta = pos - self.mean\n",
    "        numerator = math.exp(-0.5 * (delta.T).dot(self.cov.I).dot(delta))\n",
    "        denominator = 2 * math.pi * math.sqrt(np.linalg.det(self.cov))\n",
    "        return numerator / denominator\n",
    "    \n",
    "    def ellipse(self):\n",
    "        eigen = np.linalg.eig(self.cov)\n",
    "        \n",
    "        v1 = eigen[0][0] * eigen[1][0]\n",
    "        v2 = eigen[0][1] * eigen[1][1]\n",
    "        v1_direction = math.atan2(v1[1],v1[0])\n",
    "        \n",
    "        e = Ellipse(self.mean,width=np.linalg.norm(v1),height=np.linalg.norm(v2),angle=v1_direction/3.14*180)\n",
    "        e.set_alpha(0.2)\n",
    "        \n",
    "        return e"
   ]
  },
  {
   "cell_type": "code",
   "execution_count": 194,
   "metadata": {
    "collapsed": false
   },
   "outputs": [],
   "source": [
    "\n",
    "class Robot:\n",
    "    def __init__(self,x,y,rad):\n",
    "        self.actual_poses = [np.array([x,y,rad])]\n",
    "        self.guess_poses = [np.array([x,y,rad])]\n",
    "        self.observed_landmarks = []\n",
    "        random.seed()\n",
    "        \n",
    "        self.step = 0\n",
    "        \n",
    "        self.sensor_max_range = 1.0\n",
    "        self.sensor_min_range = 0.1\n",
    "        self.sensor_max_angle = math.pi / 2\n",
    "        self.sensor_min_angle = - math.pi /2 \n",
    "        \n",
    "    def getGuessX(self):             return self.guess_poses[-1][0]\n",
    "    def getGuessY(self):             return self.guess_poses[-1][1]\n",
    "    def getGuessTheta(self):     return self.guess_poses[-1][2]\n",
    "    \n",
    "    def getActualXs(self):           return [e[0] for e in self.actual_poses]\n",
    "    def getActualYs(self):           return [e[1] for e in self.actual_poses]\n",
    "    def getActualThetas(self):   return [e[2] for e in self.actual_poses]\n",
    "    def getActualDXs(self):           return [math.cos(e[2]) for e in self.actual_poses]\n",
    "    def getActualDYs(self):           return [math.sin(e[2]) for e in self.actual_poses]\n",
    "    \n",
    "    def getGuessXs(self):           return [e[0] for e in self.guess_poses]\n",
    "    def getGuessYs(self):           return [e[1] for e in self.guess_poses]\n",
    "    def getGuessThetas(self):   return [e[2] for e in self.guess_poses]\n",
    "    def getGuessDXs(self):   return [math.cos(e[2]) for e in self.guess_poses]\n",
    "    def getGuessDYs(self):   return [math.sin(e[2]) for e in self.guess_poses]\n",
    "    \n",
    "    def getObservationXs(self): return [e[\"pos\"][0] for e in self.observed_landmarks]\n",
    "    def getObservationYs(self): return [e[\"pos\"][1] for e in self.observed_landmarks]\n",
    "    \n",
    "    def printObservations(self):\n",
    "        for e in self.observed_landmarks:\n",
    "            print(\"step: %d, id: %d, measurement: (%f,%f), pos: (%f,%f)\" %\n",
    "                  (e[\"step\"],e[\"id\"],e[\"measurement\"][0],e[\"measurement\"][1],e[\"pos\"][0],e[\"pos\"][1]) )\n",
    "    \n",
    "    def move(self,fw,rot):\n",
    "        self.step += 1\n",
    "        \n",
    "        actual_fw = random.gauss(fw,fw/10)    #10% noise\n",
    "        actual_rot = random.gauss(rot,rot/10) #10% noise\n",
    "        \n",
    "        p = self.actual_poses[-1]\n",
    "        px, py, pt = p[0],p[1],p[2]\n",
    "        x = px + actual_fw * math.cos(pt)\n",
    "        y = py + actual_fw * math.sin(pt)\n",
    "        t = pt + actual_rot\n",
    "        self.actual_poses.append(np.array([x,y,t]))\n",
    "        \n",
    "        g = self.guess_poses[-1]\n",
    "        gx, gy, gt = g[0],g[1],g[2]\n",
    "        x = gx + fw * math.cos(gt)\n",
    "        y = gy + fw * math.sin(gt)\n",
    "        t = gt + rot\n",
    "        self.guess_poses.append(np.array([x,y,t]))\n",
    "        \n",
    "    def observe(self,landmarks):\n",
    "        observed = []\n",
    "        rx,ry,rt = self.getGuessX(),self.getGuessY(),self.getGuessTheta()\n",
    "        for i,landmark in enumerate(landmarks):\n",
    "            lx,ly = landmark.getX(),landmark.getY()\n",
    "            distance = math.sqrt((rx-lx)**2 + (ry-ly)**2)\n",
    "            if distance > self.sensor_max_range or distance < self.sensor_min_range:\n",
    "                continue\n",
    "                \n",
    "            direction = math.atan2(ly-ry, lx-rx) - rt\n",
    "            if direction > math.pi:    direction -= 2*math.pi\n",
    "            if direction < -math.pi:   direction += 2*math.pi\n",
    "            \n",
    "            if direction > self.sensor_max_angle or direction < self.sensor_min_angle:\n",
    "                continue\n",
    "            \n",
    "            #add noise\n",
    "            distance = random.gauss(distance,distance/10)   #10% gauss noise\n",
    "            direction = random.gauss(direction,math.pi * 10 /180)   #10deg gauss noise\n",
    "            \n",
    "            x = rx + distance * math.cos(rt + direction)\n",
    "            y = ry + distance * math.sin(rt + direction)\n",
    "            \n",
    "            e = Gaussian2D(sigma_x = distance/10, sigma_y = distance * math.sin(math.pi * 10 /180 ) , \n",
    "                            cov_xy = 0.0)\n",
    "            e.shift(np.array([x,y]).T, rt + direction)\n",
    "            \n",
    "            self.observed_landmarks.append( \n",
    "                {\"step\":self.step, \"id\":i, \"measurement\": (distance,direction),\"ellipse\":e}\n",
    "            )\n",
    "            \n",
    "            "
   ]
  },
  {
   "cell_type": "code",
   "execution_count": 189,
   "metadata": {
    "collapsed": false
   },
   "outputs": [
    {
     "name": "stdout",
     "output_type": "stream",
     "text": [
      "[ 0.44384678 -0.03222822]\n",
      "[ 0.05184163  0.42200375]\n",
      "[ 0.52915395 -0.02583479]\n",
      "[-0.03039784  0.47574809]\n",
      "[ 0.12432232  0.62227523]\n",
      "[-0.0542037   0.33691465]\n",
      "[ 0.12219262  0.36637548]\n",
      "[ 0.09049023  0.48361695]\n",
      "[-0.01553192  0.59053322]\n",
      "[-0.00679487  0.50650327]\n",
      "[-0.55986908 -0.02037922]\n",
      "[ 0.00586467  0.49612806]\n",
      "[-0.52834387  0.0504937 ]\n",
      "[ 0.48353157  0.01443531]\n",
      "[-0.00911089  0.39434047]\n",
      "[ 0.48000141  0.10866467]\n",
      "[ 0.01953577  0.54097776]\n",
      "[ 0.53874026  0.09636653]\n",
      "[ 0.03359618  0.45652384]\n",
      "[ 0.51182211  0.00228626]\n",
      "[ 0.04756989  0.47060542]\n",
      "[-0.00463936  0.36846941]\n"
     ]
    }
   ],
   "source": [
    "robot = Robot(0,0,0)\n",
    "\n",
    "for i in range(20):\n",
    "    robot.observe(actual_landmarks)\n",
    "    robot.move(0.3,3.14/6)"
   ]
  },
  {
   "cell_type": "code",
   "execution_count": 202,
   "metadata": {
    "collapsed": false
   },
   "outputs": [
    {
     "data": {
      "image/png": "[encoded data removed]",
      "text/plain": [
       "<matplotlib.figure.Figure at 0x10ade1400>"
      ]
     },
     "metadata": {},
     "output_type": "display_data"
    }
   ],
   "source": [
    "fig = plt.figure(0,figsize=(16, 8))\n",
    "sp = fig.add_subplot(111, aspect='equal')\n",
    "\n",
    "plt.scatter(lxs,lys,s=300,marker=\"*\",label=\"actual landmarks\",color=\"orange\")\n",
    "plt.quiver(robot.getActualXs(),robot.getActualYs(),robot.getActualDXs(),robot.getActualDYs(),\n",
    "           color=\"red\",label=\"actual robot motion\")\n",
    "plt.quiver(robot.getGuessXs(),robot.getGuessYs(),robot.getGuessDXs(),robot.getGuessDYs(),\n",
    "           color=\"blue\",label=\"robot guess\")\n",
    "\n",
    "for obs in robot.observed_landmarks:\n",
    "    sp.add_artist(obs[\"ellipse\"].ellipse())\n",
    "    \n",
    "#sp.set_xlim(-2, 2)\n",
    "#sp.set_ylim(-1, 2)\n",
    "\n",
    "#plt.scatter(robot.getObservationXs(),robot.getObservationYs(),s=100,marker=\"*\",label=\"guess landmarks\",color=\"red\")\n",
    "plt.legend()\n",
    "plt.show()"
   ]
  },
  {
   "cell_type": "code",
   "execution_count": null,
   "metadata": {
    "collapsed": false
   },
   "outputs": [],
   "source": [
    "print(robot.observed_landmarks[0])\n",
    "\n",
    "class GraphSlam2D:\n",
    "    def __init__(self,robot):\n",
    "        pass"
   ]
  },
  {
   "cell_type": "code",
   "execution_count": null,
   "metadata": {
    "collapsed": true
   },
   "outputs": [],
   "source": []
  },
  {
   "cell_type": "code",
   "execution_count": null,
   "metadata": {
    "collapsed": true
   },
   "outputs": [],
   "source": []
  }
 ],
 "metadata": {
  "kernelspec": {
   "display_name": "Python 3",
   "language": "python",
   "name": "python3"
  },
  "language_info": {
   "codemirror_mode": {
    "name": "ipython",
    "version": 3
   },
   "file_extension": ".py",
   "mimetype": "text/x-python",
   "name": "python",
   "nbconvert_exporter": "python",
   "pygments_lexer": "ipython3",
   "version": "3.5.1"
  }
 },
 "nbformat": 4,
 "nbformat_minor": 0
}
